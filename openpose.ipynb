{
 "cells": [
  {
   "cell_type": "code",
   "execution_count": 1,
   "metadata": {},
   "outputs": [],
   "source": [
    "import cv2\n",
    "import numpy as np\n",
    "from pathlib import Path"
   ]
  },
  {
   "cell_type": "code",
   "execution_count": 2,
   "metadata": {},
   "outputs": [],
   "source": [
    "BODY_PARTS = { \"Head\": 0, \"Neck\": 1, \"RShoulder\": 2, \"RElbow\": 3, \"RWrist\": 4,\n",
    "                \"LShoulder\": 5, \"LElbow\": 6, \"LWrist\": 7, \"RHip\": 8, \"RKnee\": 9,\n",
    "                \"RAnkle\": 10, \"LHip\": 11, \"LKnee\": 12, \"LAnkle\": 13, \"Chest\": 14,\n",
    "                \"Background\": 15 }\n",
    "\n",
    "POSE_PAIRS = [ [\"Head\", \"Neck\"], [\"Neck\", \"RShoulder\"], [\"RShoulder\", \"RElbow\"],\n",
    "                [\"RElbow\", \"RWrist\"], [\"Neck\", \"LShoulder\"], [\"LShoulder\", \"LElbow\"],\n",
    "                [\"LElbow\", \"LWrist\"], [\"Neck\", \"Chest\"], [\"Chest\", \"RHip\"], [\"RHip\", \"RKnee\"],\n",
    "                [\"RKnee\", \"RAnkle\"], [\"Chest\", \"LHip\"], [\"LHip\", \"LKnee\"], [\"LKnee\", \"LAnkle\"] ]"
   ]
  },
  {
   "cell_type": "code",
   "execution_count": 3,
   "metadata": {},
   "outputs": [],
   "source": [
    "protoFile = \"./openpose/models/pose/mpi/pose_deploy_linevec_faster_4_stages.prototxt\"\n",
    "weightsFile = \"./openpose/models/pose/mpi/pose_iter_160000.caffemodel\""
   ]
  },
  {
   "cell_type": "code",
   "execution_count": 4,
   "metadata": {},
   "outputs": [],
   "source": [
    "net = cv2.dnn.readNetFromCaffe(protoFile, weightsFile)"
   ]
  },
  {
   "cell_type": "code",
   "execution_count": 5,
   "metadata": {},
   "outputs": [],
   "source": [
    "image = cv2.imread(\"./all_angles/leftside.png\")\n",
    "image = cv2.resize(image, (512,512), interpolation=cv2.INTER_CUBIC)\n",
    "\n",
    "output_img = np.zeros_like(image)\n",
    "\n",
    "imageHeight, imageWidth, _ = image.shape"
   ]
  },
  {
   "cell_type": "code",
   "execution_count": 6,
   "metadata": {},
   "outputs": [],
   "source": [
    "imgBlob = cv2.dnn.blobFromImage(image, 1.0/255, (imageHeight,imageWidth), (0,0,0), swapRB=False, crop=False)"
   ]
  },
  {
   "cell_type": "code",
   "execution_count": 7,
   "metadata": {},
   "outputs": [],
   "source": [
    "# blob_reshaped = imgBlob.reshape(imgBlob.shape[2], imgBlob.shape[3], imgBlob.shape[1])\n",
    "\n",
    "# blob_image = cv2.cvtColor(blob_reshaped, cv2.COLOR_BGR2RGB)\n",
    "\n",
    "# cv2.imshow(\"blobs\", blob_image)\n",
    "# cv2.waitKey(0)\n",
    "# cv2.destroyAllWindows()"
   ]
  },
  {
   "cell_type": "code",
   "execution_count": 8,
   "metadata": {},
   "outputs": [],
   "source": [
    "net.setInput(imgBlob)\n",
    "output = net.forward()"
   ]
  },
  {
   "cell_type": "code",
   "execution_count": 9,
   "metadata": {},
   "outputs": [],
   "source": [
    "Height = output.shape[2]\n",
    "Width = output.shape[3]"
   ]
  },
  {
   "cell_type": "code",
   "execution_count": 10,
   "metadata": {},
   "outputs": [
    {
     "name": "stdout",
     "output_type": "stream",
     "text": [
      "64 64\n"
     ]
    }
   ],
   "source": [
    "print(Height, Width)"
   ]
  },
  {
   "cell_type": "code",
   "execution_count": 11,
   "metadata": {},
   "outputs": [],
   "source": [
    "points = []\n",
    "\n",
    "for i in range(len(BODY_PARTS)-1):\n",
    "    probMap = output[0,i,:,:]\n",
    "    \n",
    "    minVal, prob, minLoc, point = cv2.minMaxLoc(probMap)\n",
    "    \n",
    "    x = (imageWidth * point[0]) / Width\n",
    "    y = (imageHeight * point[1]) / Height\n",
    "    \n",
    "    if prob > 0.1:\n",
    "        cv2.circle(output_img, (int(x), int(y)), 5, (0,255,255), thickness = -1, lineType=cv2.FILLED)\n",
    "        cv2.circle(image, (int(x), int(y)), 5, (0,255,255), thickness = -1, lineType=cv2.FILLED)\n",
    "        cv2.putText(image, f\"{i}\", (int(x), int(y)), cv2.FONT_HERSHEY_SIMPLEX, 1.4, (0, 0, 255), 3, lineType=cv2.LINE_AA)\n",
    "        \n",
    "        points.append((int(x), int(y)))\n",
    "    else:\n",
    "        points.append(None)\n",
    "        \n",
    "cv2.imshow(\"output\", output_img)\n",
    "cv2.imshow(\"output2\", image)\n",
    "cv2.waitKey(0)\n",
    "cv2.destroyAllWindows()"
   ]
  },
  {
   "cell_type": "code",
   "execution_count": 12,
   "metadata": {},
   "outputs": [
    {
     "name": "stdout",
     "output_type": "stream",
     "text": [
      "0  와  1  연결\n",
      "\n",
      "1  와  2  연결\n",
      "\n",
      "2  와  3  연결\n",
      "\n",
      "3  와  4  연결\n",
      "\n",
      "1  와  5  연결\n",
      "\n",
      "5  와  6  연결\n",
      "\n",
      "6  와  7  연결\n",
      "\n",
      "1  와  14  연결\n",
      "\n",
      "14  와  8  연결\n",
      "\n",
      "8  와  9  연결\n",
      "\n",
      "9  와  10  연결\n",
      "\n",
      "14  와  11  연결\n",
      "\n",
      "11  와  12  연결\n",
      "\n",
      "12  와  13  연결\n",
      "\n"
     ]
    }
   ],
   "source": [
    "imageCopy = output_img\n",
    "\n",
    "for pair in POSE_PAIRS:\n",
    "    partA = pair[0]          \n",
    "    partA = BODY_PARTS[partA]\n",
    "    partB = pair[1]\n",
    "    partB = BODY_PARTS[partB]\n",
    "    \n",
    "    print(partA,\" 와 \", partB, \" 연결\\n\")\n",
    "    if points[partA] and points[partB]:\n",
    "        cv2.line(imageCopy, points[partA], points[partB], (0, 255, 0), 2)\n",
    "\n",
    "\n",
    "cv2.imshow(\"Output-Keypoints\",imageCopy)\n",
    "cv2.waitKey(0)\n",
    "cv2.destroyAllWindows()"
   ]
  },
  {
   "cell_type": "code",
   "execution_count": null,
   "metadata": {},
   "outputs": [],
   "source": []
  }
 ],
 "metadata": {
  "kernelspec": {
   "display_name": "3d",
   "language": "python",
   "name": "python3"
  },
  "language_info": {
   "codemirror_mode": {
    "name": "ipython",
    "version": 3
   },
   "file_extension": ".py",
   "mimetype": "text/x-python",
   "name": "python",
   "nbconvert_exporter": "python",
   "pygments_lexer": "ipython3",
   "version": "3.11.4"
  },
  "orig_nbformat": 4
 },
 "nbformat": 4,
 "nbformat_minor": 2
}
