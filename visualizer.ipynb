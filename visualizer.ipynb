{
 "cells": [
  {
   "cell_type": "code",
   "execution_count": 1,
   "metadata": {},
   "outputs": [],
   "source": [
    "import open3d as o3d\n",
    "from open3d import visualization\n",
    "import numpy as np\n",
    "from pathlib import Path\n",
    "from mdm_to_openpose import mdm2openpose\n",
    "from joint_format import *\n",
    "import os"
   ]
  },
  {
   "cell_type": "code",
   "execution_count": 2,
   "metadata": {},
   "outputs": [],
   "source": [
    "mdm_path = Path(\"/home/notingcode/Projects/camera_pose/save_result/results.npy\")\n",
    "\n",
    "test = mdm2openpose(mdm_path)"
   ]
  },
  {
   "cell_type": "code",
   "execution_count": 3,
   "metadata": {},
   "outputs": [],
   "source": [
    "point_colors = []\n",
    "joint_pair_idxs = []\n",
    "for color_rgb in OPENPOSE_JOINT_COLOR.values():\n",
    "    point_colors.append(color_rgb)\n",
    "for joint_pair in OPENPOSE_JOINT_PAIRS:\n",
    "    joint_pair_idxs.append([OPENPOSE_JOINT_MAP[joint_pair[0]],OPENPOSE_JOINT_MAP[joint_pair[1]]])\n",
    "    \n",
    "point_colors = np.asarray(point_colors)\n",
    "point_colors = np.divide(point_colors,255)\n",
    "joint_pair_idxs = np.asarray(joint_pair_idxs)\n",
    "joint_pair_colors = np.asarray(OPENPOSE_JOINT_PAIRS_COLOR)\n",
    "joint_pair_colors = np.divide(joint_pair_colors,255)"
   ]
  },
  {
   "cell_type": "code",
   "execution_count": 4,
   "metadata": {},
   "outputs": [],
   "source": [
    "# Non-blocking visualization implementation\n",
    "vis = visualization.Visualizer()\n",
    "vis.create_window(left=0,top=0,height=1024, width=1024)\n",
    "vc = vis.get_view_control()\n",
    "\n",
    "pcd = o3d.geometry.PointCloud()\n",
    "lineSet = o3d.geometry.LineSet()\n",
    "\n",
    "render_option = vis.get_render_option()\n",
    "render_option.background_color = np.asarray([0,0,0])\n",
    "render_option.point_size = 9\n",
    "render_option.line_width = 10\n",
    "\n",
    "for action_idx in range(test.openpose_motion.shape[0]//3):\n",
    "\n",
    "    entire_motion = test.openpose_motion[action_idx,:,:,:]\n",
    "\n",
    "    for frame_idx in range(entire_motion.shape[2]//3):\n",
    "        \n",
    "        \n",
    "        pcd.points = o3d.utility.Vector3dVector(entire_motion[:,:,frame_idx])\n",
    "        pcd.colors = o3d.utility.Vector3dVector(point_colors)\n",
    "        lineSet.points = o3d.utility.Vector3dVector(entire_motion[:,:,frame_idx])\n",
    "        lineSet.lines = o3d.utility.Vector2iVector(joint_pair_idxs)\n",
    "        lineSet.colors = o3d.utility.Vector3dVector(joint_pair_colors)\n",
    "        center = pcd.get_center()\n",
    "        vc.set_lookat([center[0],center[1]-0.2,center[2]])\n",
    "        vc.set_up([0,1,0])\n",
    "        vc.set_zoom(0.7)\n",
    "        vc.set_front([0,0,1])\n",
    "        if frame_idx == 0:\n",
    "            vis.add_geometry(pcd)\n",
    "            vis.add_geometry(lineSet)\n",
    "        else:\n",
    "            vis.update_geometry(pcd)\n",
    "            vis.update_geometry(lineSet)\n",
    "        vis.poll_events()\n",
    "        vis.update_renderer()\n",
    "        if frame_idx == 100:\n",
    "            vis.capture_screen_image(\n",
    "                os.path.join(\"/home/notingcode/Projects/camera_pose/images/\",f\"{action_idx}.png\")\n",
    "            )\n",
    "\n",
    "vis.destroy_window()\n",
    "\n",
    "del render_option\n",
    "del vis\n",
    "del vc"
   ]
  },
  {
   "cell_type": "code",
   "execution_count": null,
   "metadata": {},
   "outputs": [],
   "source": []
  }
 ],
 "metadata": {
  "kernelspec": {
   "display_name": "open3d",
   "language": "python",
   "name": "python3"
  },
  "language_info": {
   "codemirror_mode": {
    "name": "ipython",
    "version": 3
   },
   "file_extension": ".py",
   "mimetype": "text/x-python",
   "name": "python",
   "nbconvert_exporter": "python",
   "pygments_lexer": "ipython3",
   "version": "3.10.12"
  },
  "orig_nbformat": 4
 },
 "nbformat": 4,
 "nbformat_minor": 2
}
