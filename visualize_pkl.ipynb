{
 "cells": [
  {
   "cell_type": "code",
   "execution_count": 1,
   "metadata": {},
   "outputs": [
    {
     "name": "stdout",
     "output_type": "stream",
     "text": [
      "Jupyter environment detected. Enabling Open3D WebVisualizer.\n",
      "[Open3D INFO] WebRTC GUI backend enabled.\n",
      "[Open3D INFO] WebRTCWindowSystem: HTTP handshake server disabled.\n"
     ]
    }
   ],
   "source": [
    "import os\n",
    "import argparse\n",
    "from pathlib import Path\n",
    "import numpy as np\n",
    "import open3d as o3d\n",
    "from mdm_to_openpose import mdm2openpose\n",
    "from joint_format import *"
   ]
  },
  {
   "cell_type": "code",
   "execution_count": 2,
   "metadata": {},
   "outputs": [],
   "source": [
    "joints = np.load('/home/notingcode/Projects/3d_visualize/Thuman2_data/THUman.20 Release Smpl-X Paras/0000/smplx_param.pkl', allow_pickle=True)"
   ]
  },
  {
   "cell_type": "code",
   "execution_count": 7,
   "metadata": {},
   "outputs": [
    {
     "name": "stdout",
     "output_type": "stream",
     "text": [
      "(betas), ([[-0.07558143  0.32942227  1.0060078  -0.12757893 -0.03778011 -0.21528067\n",
      "  -0.15984623  0.02383436 -0.00974432 -0.19869271]])\n",
      "(global_orient), ([[-0.11746854 -0.06051205  0.07463422]])\n",
      "(body_pose), ([[-0.3917417  -0.03691978  0.06812928  0.3911107  -0.23182721 -0.20759924\n",
      "   0.13518968  0.19136895  0.02689786  0.41719556 -0.00808944 -0.10676732\n",
      "   0.04318313  0.14980806 -0.07139847 -0.16677351  0.04356477 -0.09162328\n",
      "   0.00349898  0.21220174 -0.26899427 -0.28702343 -0.35910538  0.1831156\n",
      "   0.2301289   0.12517679 -0.00456658 -0.24485487  0.27743676  0.3612554\n",
      "  -0.2138737   0.24636716 -0.11228979 -0.09850651  0.13634446  0.06242996\n",
      "  -0.36071712  0.07848728  0.6332061  -0.5196924   0.14105594 -0.2875325\n",
      "   0.18838441 -0.2661808   0.01617731 -0.43828183 -0.56703544  0.43920952\n",
      "   0.08272492  0.9815875   0.43875867 -0.5159573  -1.125371    0.24906154\n",
      "   0.36001316  1.3136628   0.18185258 -0.4112559  -0.4942451   0.32637542\n",
      "  -0.21811624  0.3640717  -0.21703215]])\n",
      "(left_hand_pose), ([[-1.7166055   0.7884916   0.8562976  -1.2851194   0.34787565  0.21151984\n",
      "  -0.0241295   0.04393847 -0.2315217  -0.24059375  1.0975529  -0.2526594 ]])\n",
      "(right_hand_pose), ([[-1.5035148   0.31838354  0.6136147  -1.2674971   0.21313567  0.17604698\n",
      "   0.13500223  0.00522246 -0.14026584 -0.12515026  0.8228088  -0.22770703]])\n",
      "(jaw_pose), ([[ 3.7731946e-02 -1.2558732e-04 -7.6974691e-05]])\n",
      "(leye_pose), ([[-0.22549002  0.0206819   0.05513813]])\n",
      "(reye_pose), ([[-0.19194697  0.1125071  -0.02703148]])\n",
      "(expression), ([[-0.30373967 -0.07320405  0.09034521 -0.12543742 -0.0581165   0.04572107\n",
      "   0.03617893  0.03532238 -0.00055034 -0.00423355]])\n",
      "(scale), ([0.52798055])\n",
      "(translation), ([0.00109702 0.17737334 0.00064373])\n"
     ]
    }
   ],
   "source": [
    "for key, value in joints.items():\n",
    "    print(f\"({key}), ({value})\")"
   ]
  },
  {
   "cell_type": "code",
   "execution_count": 15,
   "metadata": {},
   "outputs": [
    {
     "data": {
      "text/plain": [
       "array([[ 0.00366306, -0.03609909,  0.00434145],\n",
       "       [ 0.0421069 , -0.08033916, -0.00193047],\n",
       "       [-0.02911966, -0.09005728,  0.00628623],\n",
       "       [-0.0014931 ,  0.03232816, -0.0293985 ],\n",
       "       [ 0.09058887, -0.24558207,  0.10568255],\n",
       "       [-0.06872646, -0.27601876, -0.06054283],\n",
       "       [-0.00222194,  0.11212633, -0.01126577],\n",
       "       [ 0.08187264, -0.46479613,  0.11315209],\n",
       "       [-0.07401626, -0.46933632, -0.15532391],\n",
       "       [-0.00413963,  0.1448135 , -0.00630013],\n",
       "       [ 0.11902293, -0.50448   ,  0.16606498],\n",
       "       [-0.13108747, -0.50797832, -0.11482895],\n",
       "       [-0.03476466,  0.25933497, -0.02908583],\n",
       "       [ 0.02217211,  0.21218815, -0.03113342],\n",
       "       [-0.06211469,  0.19988966, -0.00679055],\n",
       "       [-0.00884808,  0.30463478, -0.01143833],\n",
       "       [ 0.05957238,  0.26693177, -0.06668092],\n",
       "       [-0.1034888 ,  0.24835138,  0.02041088],\n",
       "       [ 0.12941316,  0.37382788, -0.04774242],\n",
       "       [-0.12071405,  0.22037707,  0.15025392],\n",
       "       [ 0.04636432,  0.46938914,  0.00919194],\n",
       "       [ 0.00771093,  0.20748432,  0.2015497 ],\n",
       "       [ 0.01432654,  0.45839376,  0.04312428],\n",
       "       [ 0.04286599,  0.18184504,  0.22263904]])"
      ]
     },
     "execution_count": 15,
     "metadata": {},
     "output_type": "execute_result"
    }
   ],
   "source": [
    "np.load('/home/notingcode/Projects/3d_visualize/Thuman2_data/Thuman2_SMPL_fittings/THuman2.0_Release/0000/SMPL_joints.npy')"
   ]
  },
  {
   "cell_type": "code",
   "execution_count": 14,
   "metadata": {},
   "outputs": [],
   "source": [
    "body = joints['body_pose']\n",
    "leye = joints['leye_pose']\n",
    "reye = joints['reye_pose']\n",
    "left_hand = joints['left_hand_pose']\n",
    "right_hand = joints['right_hand_pose']"
   ]
  },
  {
   "cell_type": "code",
   "execution_count": 12,
   "metadata": {},
   "outputs": [
    {
     "name": "stdout",
     "output_type": "stream",
     "text": [
      "[Open3D INFO] EGL headless mode enabled.\n",
      "WARNING: Using soft CircularBuffer (6144 KiB)\n",
      "FEngine (64 bits) created at 0x7fb358c6e010 (threading is enabled)\n",
      "EGL(1.5)\n",
      "OpenGL(4.1)\n"
     ]
    }
   ],
   "source": [
    "mat_point = o3d.visualization.rendering.MaterialRecord()\n",
    "mat_point.point_size = 15\n",
    "\n",
    "renderer = o3d.visualization.rendering.OffscreenRenderer(1024,1024)\n",
    "renderer.scene.set_background(np.array([0,0,0,0]))\n",
    "\n",
    "pcd = o3d.geometry.PointCloud()\n",
    "\n",
    "pcd.points = o3d.utility.Vector3dVector(body)\n",
    "\n",
    "pcd_center = pcd.get_center()\n",
    "\n",
    "pcd.scale(1.3, center=pcd_center)\n",
    "renderer.scene.add_geometry(\"pcd\",pcd,mat_point)\n",
    "\n",
    "camera_position = {'front': [0,0.6+pcd_center[1],1.5], 'back': [0,0.6+pcd_center[1],-1.5], 'left': [1.5,0.6+pcd_center[1],0], 'right': [-1.5,0.6+pcd_center[1],0]}\n",
    "\n",
    "for angle, value in camera_position.items():\n",
    "    renderer.setup_camera(60,\n",
    "                            pcd_center,\n",
    "                            np.array(value),\n",
    "                            np.array([0,1,0])\n",
    "                            )\n",
    "    img_o3d = renderer.render_to_image()\n",
    "    o3d.io.write_image(f\"./{angle}.png\", img_o3d)"
   ]
  },
  {
   "cell_type": "code",
   "execution_count": 13,
   "metadata": {},
   "outputs": [],
   "source": [
    "o3d.visualization.draw_geometries([pcd])"
   ]
  },
  {
   "cell_type": "code",
   "execution_count": null,
   "metadata": {},
   "outputs": [],
   "source": []
  }
 ],
 "metadata": {
  "kernelspec": {
   "display_name": "3d",
   "language": "python",
   "name": "python3"
  },
  "language_info": {
   "codemirror_mode": {
    "name": "ipython",
    "version": 3
   },
   "file_extension": ".py",
   "mimetype": "text/x-python",
   "name": "python",
   "nbconvert_exporter": "python",
   "pygments_lexer": "ipython3",
   "version": "3.10.13"
  }
 },
 "nbformat": 4,
 "nbformat_minor": 2
}
