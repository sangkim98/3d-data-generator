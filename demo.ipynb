{
 "cells": [
  {
   "cell_type": "code",
   "execution_count": 1,
   "metadata": {},
   "outputs": [],
   "source": [
    "import trimesh\n",
    "import pyrender\n",
    "import os.path as ospath\n",
    "import trimesh.sample as sample\n",
    "import numpy as np\n",
    "import cv2\n",
    "import matplotlib.pyplot as plt"
   ]
  },
  {
   "cell_type": "code",
   "execution_count": 2,
   "metadata": {},
   "outputs": [
    {
     "data": {
      "text/plain": [
       "<pyrender.node.Node at 0x7f8af8a71b50>"
      ]
     },
     "execution_count": 2,
     "metadata": {},
     "output_type": "execute_result"
    }
   ],
   "source": [
    "person_trimesh = trimesh.load(ospath.join(ospath.curdir, \"frame101.obj\"))\n",
    "mesh = pyrender.Mesh.from_trimesh(person_trimesh)\n",
    "scene = pyrender.Scene()\n",
    "scene.add(mesh)"
   ]
  },
  {
   "cell_type": "code",
   "execution_count": 3,
   "metadata": {},
   "outputs": [],
   "source": [
    "# pyrender.Viewer(scene, use_raymond_lighting=True)"
   ]
  },
  {
   "cell_type": "code",
   "execution_count": 4,
   "metadata": {},
   "outputs": [],
   "source": [
    "points_even, idx_even = sample.sample_surface_even(person_trimesh, 500)"
   ]
  },
  {
   "cell_type": "code",
   "execution_count": 5,
   "metadata": {},
   "outputs": [
    {
     "data": {
      "text/plain": [
       "<pyrender.node.Node at 0x7f8ab98724d0>"
      ]
     },
     "execution_count": 5,
     "metadata": {},
     "output_type": "execute_result"
    }
   ],
   "source": [
    "scene = pyrender.Scene()\n",
    "scene.add(mesh)"
   ]
  },
  {
   "cell_type": "code",
   "execution_count": 6,
   "metadata": {},
   "outputs": [],
   "source": [
    "center = mesh.centroid\n",
    "camera = pyrender.PerspectiveCamera(yfov=np.pi / 3.0, aspectRatio=1.0)\n",
    "camera_pose = np.array([\n",
    "   [1.0,  0.0, 0.0, 0 + center[0]],\n",
    "   [0.0,  1.0, 0.0, 0 + center[1]],\n",
    "   [0.0,  0.0, 1.0, 2 + center[2]],\n",
    "   [0.0,  0.0, 0.0, 1.0],\n",
    "])"
   ]
  },
  {
   "cell_type": "code",
   "execution_count": 7,
   "metadata": {},
   "outputs": [],
   "source": [
    "scene.add(camera, pose=camera_pose)\n",
    "light = pyrender.SpotLight(color=np.ones(3), intensity=1.0,\n",
    "                           innerConeAngle=np.pi/16.0,\n",
    "                           outerConeAngle=np.pi/6.0)\n",
    "scene.add(light, pose=camera_pose)\n",
    "r = pyrender.OffscreenRenderer(1024, 1024)\n",
    "color, depth = r.render(scene)\n"
   ]
  },
  {
   "cell_type": "code",
   "execution_count": 8,
   "metadata": {},
   "outputs": [],
   "source": [
    "cv2.imshow(\"first\", color)\n",
    "cv2.waitKey(0)\n",
    "cv2.destroyAllWindows()"
   ]
  },
  {
   "cell_type": "code",
   "execution_count": 9,
   "metadata": {},
   "outputs": [],
   "source": [
    "def rotation_matrix_x(angle_rad):\n",
    "    return np.array([\n",
    "        [1, 0, 0],\n",
    "        [0, np.cos(angle_rad), -np.sin(angle_rad)],\n",
    "        [0, np.sin(angle_rad), np.cos(angle_rad)]\n",
    "    ])\n",
    "\n",
    "def rotation_matrix_y(angle_rad):\n",
    "    return np.array([\n",
    "        [np.cos(angle_rad), 0, np.sin(angle_rad)],\n",
    "        [0, 1, 0],\n",
    "        [-np.sin(angle_rad), 0, np.cos(angle_rad)]\n",
    "    ])\n",
    "\n",
    "def rotation_matrix_z(angle_rad):\n",
    "    return np.array([\n",
    "        [np.cos(angle_rad), -np.sin(angle_rad), 0],\n",
    "        [np.sin(angle_rad), np.cos(angle_rad), 0],\n",
    "        [0, 0, 1]\n",
    "    ])"
   ]
  },
  {
   "cell_type": "code",
   "execution_count": 23,
   "metadata": {},
   "outputs": [],
   "source": [
    "angle_x_rad = 45 * np.pi / 180\n",
    "angle_y_rad = 45 * np.pi / 180\n",
    "angle_z_rad = 45 * np.pi / 180\n",
    "\n",
    "R_x = rotation_matrix_x(angle_x_rad)\n",
    "R_y = rotation_matrix_y(angle_y_rad)\n",
    "R_z = rotation_matrix_z(angle_z_rad)\n",
    "\n",
    "\n",
    "R = np.dot(R_z, R_y, R_x)"
   ]
  },
  {
   "cell_type": "code",
   "execution_count": 24,
   "metadata": {},
   "outputs": [],
   "source": [
    "# Rotating the camera's orientation\n",
    "new_camera_pose = np.copy(camera_pose)\n",
    "new_camera_pose[:3, :3] = np.dot(R, camera_pose[:3, :3])\n",
    "\n",
    "# Rotating the camera's position\n",
    "old_position = np.array([0, 0, 2])\n",
    "new_position = np.dot(R, old_position)\n",
    "new_camera_pose[:3, 3] = new_position + center"
   ]
  },
  {
   "cell_type": "code",
   "execution_count": 25,
   "metadata": {},
   "outputs": [
    {
     "data": {
      "text/plain": [
       "True"
      ]
     },
     "execution_count": 25,
     "metadata": {},
     "output_type": "execute_result"
    }
   ],
   "source": [
    "scene.clear()\n",
    "scene.add(mesh)\n",
    "scene.add(camera, pose=new_camera_pose)\n",
    "scene.add(light, pose=new_camera_pose)\n",
    "color, depth = r.render(scene)\n",
    "# cv2.imshow(\"b\", color)\n",
    "# cv2.waitKey(0)\n",
    "# cv2.destroyAllWindows()\n",
    "cv2.imwrite(\"backside.png\", color)"
   ]
  },
  {
   "cell_type": "code",
   "execution_count": 17,
   "metadata": {},
   "outputs": [],
   "source": [
    "point_cloud = trimesh.points.PointCloud(points_even)"
   ]
  },
  {
   "cell_type": "code",
   "execution_count": 60,
   "metadata": {},
   "outputs": [],
   "source": [
    "point_mesh = pyrender.Mesh.from_points(points_even)\n",
    "scene.clear()\n",
    "scene.add(point_mesh)\n",
    "scene.add(camera, pose=camera_pose)\n",
    "scene.add(light, pose=camera_pose)\n",
    "color, depth = r.render(scene)\n",
    "cv2.imshow(\"c\", color)\n",
    "cv2.waitKey(0)\n",
    "cv2.destroyAllWindows()"
   ]
  },
  {
   "cell_type": "code",
   "execution_count": null,
   "metadata": {},
   "outputs": [],
   "source": []
  }
 ],
 "metadata": {
  "kernelspec": {
   "display_name": "3d",
   "language": "python",
   "name": "python3"
  },
  "language_info": {
   "codemirror_mode": {
    "name": "ipython",
    "version": 3
   },
   "file_extension": ".py",
   "mimetype": "text/x-python",
   "name": "python",
   "nbconvert_exporter": "python",
   "pygments_lexer": "ipython3",
   "version": "3.11.4"
  },
  "orig_nbformat": 4
 },
 "nbformat": 4,
 "nbformat_minor": 2
}
