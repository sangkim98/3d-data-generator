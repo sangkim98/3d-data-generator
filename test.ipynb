{
 "cells": [
  {
   "cell_type": "code",
   "execution_count": 41,
   "metadata": {},
   "outputs": [],
   "source": [
    "import mitsuba as mi"
   ]
  },
  {
   "cell_type": "code",
   "execution_count": 42,
   "metadata": {},
   "outputs": [],
   "source": [
    "mi.set_variant('cuda_ad_rgb')"
   ]
  },
  {
   "cell_type": "code",
   "execution_count": 43,
   "metadata": {},
   "outputs": [],
   "source": [
    "my_scene = mi.load_file('./mitsuba/untitled.xml')"
   ]
  },
  {
   "cell_type": "code",
   "execution_count": 44,
   "metadata": {},
   "outputs": [
    {
     "data": {
      "text/plain": [
       "SceneParameters[\n",
       "  ---------------------------------------------------------------------------------------------------\n",
       "  Name                                            Flags    Type              Parent\n",
       "  ---------------------------------------------------------------------------------------------------\n",
       "  PerspectiveCamera.near_clip                              float             PerspectiveCamera\n",
       "  PerspectiveCamera.far_clip                               float             PerspectiveCamera\n",
       "  PerspectiveCamera.shutter_open                           float             PerspectiveCamera\n",
       "  PerspectiveCamera.shutter_open_time                      float             PerspectiveCamera\n",
       "  PerspectiveCamera.film.size                              ScalarVector2u    HDRFilm\n",
       "  PerspectiveCamera.film.crop_size                         ScalarVector2u    HDRFilm\n",
       "  PerspectiveCamera.film.crop_offset                       ScalarPoint2u     HDRFilm\n",
       "  PerspectiveCamera.x_fov                         ∂, D     Float             PerspectiveCamera\n",
       "  PerspectiveCamera.to_world                      ∂, D     Transform4f       PerspectiveCamera\n",
       "  mat-Sphere.clearcoat.value                      ∂        Float             UniformSpectrum\n",
       "  mat-Sphere.clearcoat_gloss.value                ∂        Float             UniformSpectrum\n",
       "  mat-Sphere.metallic.value                       ∂        Float             UniformSpectrum\n",
       "  mat-Sphere.main_specular_sampling_rate                   float             Principled\n",
       "  mat-Sphere.clearcoat_sampling_rate                       float             Principled\n",
       "  mat-Sphere.diffuse_reflectance_sampling_rate             float             Principled\n",
       "  mat-Sphere.specular                             ∂, D     Float             Principled\n",
       "  mat-Sphere.roughness.value                      ∂, D     Float             UniformSpectrum\n",
       "  mat-Sphere.base_color.value                     ∂        Float             UniformSpectrum\n",
       "  mat-Sphere.anisotropic.value                    ∂        Float             UniformSpectrum\n",
       "  mat-Sphere.spec_tint.value                      ∂        Float             UniformSpectrum\n",
       "  mat-Sphere.sheen.value                          ∂        Float             UniformSpectrum\n",
       "  mat-Sphere.sheen_tint.value                     ∂        Float             UniformSpectrum\n",
       "  mat-Sphere.spec_trans.value                     ∂        Float             UniformSpectrum\n",
       "  mat-Sphere.flatness.value                       ∂        Float             UniformSpectrum\n",
       "  OBJMesh.emitter.sampling_weight                          float             AreaLight\n",
       "  OBJMesh.emitter.radiance.data                   ∂        TensorXf          BitmapTexture\n",
       "  OBJMesh.emitter.radiance.to_uv                           ScalarTransform3f BitmapTexture\n",
       "  OBJMesh.faces                                            UInt              OBJMesh\n",
       "  OBJMesh.vertex_positions                        ∂, D     Float             OBJMesh\n",
       "  OBJMesh.vertex_normals                          ∂, D     Float             OBJMesh\n",
       "  OBJMesh.vertex_texcoords                        ∂        Float             OBJMesh\n",
       "]"
      ]
     },
     "execution_count": 44,
     "metadata": {},
     "output_type": "execute_result"
    }
   ],
   "source": [
    "mi.traverse(my_scene)"
   ]
  },
  {
   "cell_type": "code",
   "execution_count": 46,
   "metadata": {},
   "outputs": [],
   "source": [
    "img = mi.render(my_scene, spp=256)"
   ]
  },
  {
   "cell_type": "code",
   "execution_count": 47,
   "metadata": {},
   "outputs": [],
   "source": [
    "mi.Bitmap(img).convert(pixel_format=mi.Bitmap.PixelFormat.RGBA, component_format=mi.Bitmap.UInt16, srgb_gamma=True).write(\"./test.png\")"
   ]
  },
  {
   "cell_type": "code",
   "execution_count": 48,
   "metadata": {},
   "outputs": [],
   "source": [
    "del my_scene"
   ]
  }
 ],
 "metadata": {
  "kernelspec": {
   "display_name": "3d",
   "language": "python",
   "name": "python3"
  },
  "language_info": {
   "codemirror_mode": {
    "name": "ipython",
    "version": 3
   },
   "file_extension": ".py",
   "mimetype": "text/x-python",
   "name": "python",
   "nbconvert_exporter": "python",
   "pygments_lexer": "ipython3",
   "version": "3.11.5"
  }
 },
 "nbformat": 4,
 "nbformat_minor": 2
}
