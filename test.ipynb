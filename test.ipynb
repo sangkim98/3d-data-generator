{
 "cells": [
  {
   "cell_type": "code",
   "execution_count": 1,
   "metadata": {},
   "outputs": [],
   "source": [
    "import smplx\n",
    "import numpy as np\n",
    "import torch"
   ]
  },
  {
   "cell_type": "code",
   "execution_count": 42,
   "metadata": {},
   "outputs": [],
   "source": [
    "smpl_base = smplx.SMPL('/home/notingcode/Projects/3d_visualize/models/models', gender='male')"
   ]
  },
  {
   "cell_type": "code",
   "execution_count": 34,
   "metadata": {},
   "outputs": [],
   "source": [
    "thuman_param = np.load('/home/notingcode/Projects/3d_visualize/Thuman2_data/THuman2.0_smpl/0000_smpl.pkl', allow_pickle=True)"
   ]
  },
  {
   "cell_type": "code",
   "execution_count": 35,
   "metadata": {},
   "outputs": [
    {
     "data": {
      "text/plain": [
       "(1, 23, 3)"
      ]
     },
     "execution_count": 35,
     "metadata": {},
     "output_type": "execute_result"
    }
   ],
   "source": [
    "thuman_param['body_pose'].shape"
   ]
  },
  {
   "cell_type": "code",
   "execution_count": 36,
   "metadata": {},
   "outputs": [],
   "source": [
    "model_fitted = smpl_base.forward(betas=smplx.utils.Tensor(torch.as_tensor(thuman_param['betas'], dtype=torch.float32)),\n",
    "                                 body_pose=smplx.utils.Tensor(torch.as_tensor(thuman_param['body_pose'], dtype=torch.float32)),\n",
    "                                 global_orient=smplx.utils.Tensor(torch.as_tensor(thuman_param['global_orient'], dtype=torch.float32).reshape(1,1,3)),\n",
    "                                 transl=smplx.utils.Tensor(torch.as_tensor(thuman_param['transl'], dtype=torch.float32))\n",
    "                                 )"
   ]
  },
  {
   "cell_type": "code",
   "execution_count": 37,
   "metadata": {},
   "outputs": [],
   "source": [
    "points = model_fitted.vertices.reshape(6890,3)\n",
    "joints = model_fitted.joints.reshape(45,3)"
   ]
  },
  {
   "cell_type": "code",
   "execution_count": 24,
   "metadata": {},
   "outputs": [],
   "source": [
    "import open3d as o3d"
   ]
  },
  {
   "cell_type": "code",
   "execution_count": 39,
   "metadata": {},
   "outputs": [],
   "source": [
    "joint_pcd = o3d.geometry.PointCloud()\n",
    "joint_pcd.points = o3d.utility.Vector3dVector(joints)\n",
    "body_pcd = o3d.geometry.PointCloud()\n",
    "body_pcd.points = o3d.utility.Vector3dVector(points)"
   ]
  },
  {
   "cell_type": "code",
   "execution_count": 40,
   "metadata": {},
   "outputs": [],
   "source": [
    "o3d.visualization.draw_geometries([body_pcd])"
   ]
  },
  {
   "cell_type": "code",
   "execution_count": null,
   "metadata": {},
   "outputs": [],
   "source": [
    "smplx.SMPL.forw"
   ]
  }
 ],
 "metadata": {
  "kernelspec": {
   "display_name": "3d",
   "language": "python",
   "name": "python3"
  },
  "language_info": {
   "codemirror_mode": {
    "name": "ipython",
    "version": 3
   },
   "file_extension": ".py",
   "mimetype": "text/x-python",
   "name": "python",
   "nbconvert_exporter": "python",
   "pygments_lexer": "ipython3",
   "version": "3.10.13"
  }
 },
 "nbformat": 4,
 "nbformat_minor": 2
}
