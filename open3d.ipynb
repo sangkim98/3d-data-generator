{
 "cells": [
  {
   "cell_type": "code",
   "execution_count": null,
   "metadata": {},
   "outputs": [],
   "source": [
    "import os\n",
    "import time\n",
    "import open3d\n",
    "from open3d import visualization\n",
    "import cv2\n",
    "import numpy as np\n",
    "from pathlib import Path"
   ]
  },
  {
   "cell_type": "code",
   "execution_count": null,
   "metadata": {},
   "outputs": [],
   "source": [
    "color_groups = {'red_rgb': [255,0,0], 'green_rgb': [0,128,0], 'brown_rgb': [165,42,42]}"
   ]
  },
  {
   "cell_type": "code",
   "execution_count": null,
   "metadata": {},
   "outputs": [],
   "source": [
    "joint_grouped = {\n",
    "    'center_joints': ['Hips','Spine','Spine1','Spine2','Neck','Head'],\n",
    "    'right_upper_joints': ['RightShoulder','RightArm','RightForeArm','RightHand'],\n",
    "    'right_lower_joints': ['RightUpLeg','RightLeg','RightFoot','RightToeBase'],\n",
    "    'left_upper_joints': ['LeftShoulder','LeftArm','LeftForeArm','LeftHand'],\n",
    "    'left_lower_joints': ['LeftUpLeg','LeftLeg','LeftFoot','LeftToeBase'],\n",
    "}"
   ]
  },
  {
   "cell_type": "code",
   "execution_count": null,
   "metadata": {},
   "outputs": [],
   "source": [
    "joint_colors = dict()\n",
    "\n",
    "for joint_group_key, joint_list in joint_grouped.items():\n",
    "    if joint_group_key is 'center_joints':\n",
    "        for joints in joint_list:\n",
    "            pass\n",
    "    elif 'right' in joint_group_key:\n",
    "        for joints in joint_list:\n",
    "            pass\n",
    "    elif 'left' in joint_group_key:\n",
    "        for joints in joint_list:\n",
    "            pass"
   ]
  },
  {
   "cell_type": "code",
   "execution_count": null,
   "metadata": {},
   "outputs": [],
   "source": [
    "mdm_result_path = Path(\"/home/notingcode/Projects/3d/my_own/\")\n",
    "\n",
    "npy_filepaths = mdm_result_path.glob(\"*.npy\")\n",
    "\n",
    "all_motion_data = dict()\n",
    "\n",
    "for npy_fp in npy_filepaths:\n",
    "    motion_data = np.load(npy_fp, allow_pickle=True)\n",
    "    \n",
    "    for key, val in motion_data.item().items():\n",
    "        if all_motion_data.get(key, None) is None:\n",
    "            all_motion_data[key] = list()\n",
    "        \n",
    "        all_motion_data[key].append(val)\n",
    "        \n",
    "        print(f\"key: {key} | val type: {type(val)}\")\n",
    "    \n",
    "    print(f\"\\n{npy_fp} read\")"
   ]
  },
  {
   "cell_type": "code",
   "execution_count": null,
   "metadata": {},
   "outputs": [],
   "source": [
    "motion_descriptions_used = set()\n",
    "\n",
    "action_texts_list = all_motion_data['text']\n",
    "\n",
    "for action_texts in action_texts_list:\n",
    "    for action in action_texts:\n",
    "        motion_descriptions_used.add(action)"
   ]
  },
  {
   "cell_type": "code",
   "execution_count": null,
   "metadata": {},
   "outputs": [],
   "source": [
    "motion_capture = all_motion_data['motion'][0][0][:,:,0]\n",
    "print(motion_capture.shape)"
   ]
  },
  {
   "cell_type": "code",
   "execution_count": null,
   "metadata": {},
   "outputs": [],
   "source": [
    "pcd = open3d.geometry.PointCloud()\n",
    "pcd.points = open3d.utility.Vector3dVector(motion_capture)"
   ]
  },
  {
   "cell_type": "code",
   "execution_count": null,
   "metadata": {},
   "outputs": [],
   "source": [
    "vis = visualization.Visualizer()\n",
    "vis.create_window()\n",
    "vc = vis.get_view_control()\n",
    "\n",
    "pcd = open3d.geometry.PointCloud()\n",
    "entire_motion = all_motion_data['motion'][0][20,:,:,:]\n",
    "\n",
    "for frame_idx in range(entire_motion.shape[2]):\n",
    "    pcd.clear()\n",
    "    pcd.points = open3d.utility.Vector3dVector(entire_motion[:,:,frame_idx])\n",
    "    if frame_idx == 0:\n",
    "        vis.add_geometry(pcd)\n",
    "    else:\n",
    "        vis.update_geometry(pcd)\n",
    "    center = pcd.get_center()\n",
    "    vc.set_lookat(center)\n",
    "    vc.set_front([center[0],center[1],center[2]])\n",
    "    vc.set_up([1,0,0])\n",
    "    vis.update_geometry(pcd)\n",
    "    vis.poll_events()\n",
    "    vis.update_renderer()"
   ]
  }
 ],
 "metadata": {
  "kernelspec": {
   "display_name": "open3d",
   "language": "python",
   "name": "python3"
  },
  "language_info": {
   "codemirror_mode": {
    "name": "ipython",
    "version": 3
   },
   "file_extension": ".py",
   "mimetype": "text/x-python",
   "name": "python",
   "nbconvert_exporter": "python",
   "pygments_lexer": "ipython3",
   "version": "3.10.13"
  },
  "orig_nbformat": 4
 },
 "nbformat": 4,
 "nbformat_minor": 2
}
