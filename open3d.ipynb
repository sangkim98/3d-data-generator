{
 "cells": [
  {
   "cell_type": "code",
   "execution_count": 1,
   "metadata": {},
   "outputs": [
    {
     "name": "stdout",
     "output_type": "stream",
     "text": [
      "Jupyter environment detected. Enabling Open3D WebVisualizer.\n",
      "[Open3D INFO] WebRTC GUI backend enabled.\n",
      "[Open3D INFO] WebRTCWindowSystem: HTTP handshake server disabled.\n"
     ]
    }
   ],
   "source": [
    "import os\n",
    "import time\n",
    "from colorutils import Color\n",
    "from colorutils import ArithmeticModel\n",
    "import open3d as o3d\n",
    "from open3d import visualization\n",
    "import cv2\n",
    "import numpy as np\n",
    "from pathlib import Path"
   ]
  },
  {
   "cell_type": "code",
   "execution_count": 2,
   "metadata": {},
   "outputs": [],
   "source": [
    "JOINT_MAP = {\n",
    "    'Hips': 0,\n",
    "    'LeftUpLeg': 1,\n",
    "    'RightUpLeg': 2,\n",
    "    'Spine': 3,\n",
    "    'LeftLeg': 4,\n",
    "    'RightLeg': 5,\n",
    "    'Spine1': 6,\n",
    "    'LeftFoot': 7,\n",
    "    'RightFoot': 8,\n",
    "    'Spine2': 9,\n",
    "    'LeftToeBase': 10,\n",
    "    'RightToeBase': 11,\n",
    "    'Neck': 12,\n",
    "    'LeftShoulder': 13,\n",
    "    'RightShoulder': 14,\n",
    "    'Head': 15,\n",
    "    'LeftArm': 16,\n",
    "    'RightArm': 17,\n",
    "    'LeftForeArm': 18,\n",
    "    'RightForeArm': 19,\n",
    "    'LeftHand': 20,\n",
    "    'RightHand': 21,\n",
    "}\n",
    "JOINT_PAIRS = [\n",
    "    # ['Hips', 'Spine'],\n",
    "    # ['Spine', 'Spine1'],\n",
    "    # ['Spine1', 'Spine2'],\n",
    "    ['Spine2', 'Neck'],\n",
    "    ['Neck', 'Head'],\n",
    "    ['Spine2', 'RightArm'],\n",
    "    # ['RightShoulder', 'RightArm'],\n",
    "    ['RightArm', 'RightForeArm'],\n",
    "    ['RightForeArm', 'RightHand'],\n",
    "    ['Spine2', 'RightUpLeg'],\n",
    "    ['RightUpLeg', 'RightLeg'],\n",
    "    ['RightLeg', 'RightFoot'],\n",
    "    # ['RightFoot', 'RightToeBase'],\n",
    "    ['Spine2', 'LeftArm'],\n",
    "    # ['LeftShoulder', 'LeftArm'],\n",
    "    ['LeftArm', 'LeftForeArm'],\n",
    "    ['LeftForeArm', 'LeftHand'],\n",
    "    ['Spine2', 'LeftUpLeg'],\n",
    "    ['LeftUpLeg', 'LeftLeg'],\n",
    "    ['LeftLeg', 'LeftFoot'],\n",
    "    # ['LeftFoot', 'LeftToeBase']\n",
    "]"
   ]
  },
  {
   "cell_type": "code",
   "execution_count": 3,
   "metadata": {},
   "outputs": [],
   "source": [
    "color_groups = {\n",
    "    'brown_rgb': [(210,180,140),(222,184,135),(205,133,63),(210,105,30),(139,69,19),(160,82,45)],\n",
    "    'red_rgb': [(240,128,128),(250,128,114),(205,92,92),(220,20,60)],\n",
    "    'green_rgb': [(0,255,0),(50,205,50),(34,139,34),(0,128,0)],\n",
    "    'orange_rgb': [(255,165,0),(255,140,0),(255,99,71),(255,69,0)],\n",
    "    'blue_rgb': [(173,216,230),(135,206,250),(135,206,235),(0,191,255)],\n",
    "}\n",
    "joint_groups = {\n",
    "    'center_joints': ['Hips','Spine','Spine1','Spine2','Neck','Head'],\n",
    "    'right_upper_joints': ['RightShoulder','RightArm','RightForeArm','RightHand'],\n",
    "    'right_lower_joints': ['RightUpLeg','RightLeg','RightFoot','RightToeBase'],\n",
    "    'left_upper_joints': ['LeftShoulder','LeftArm','LeftForeArm','LeftHand'],\n",
    "    'left_lower_joints': ['LeftUpLeg','LeftLeg','LeftFoot','LeftToeBase'],\n",
    "}\n",
    "color_joint_group_pair = {\n",
    "    'brown_rgb': 'center_joints',\n",
    "    'red_rgb': 'right_upper_joints',\n",
    "    'green_rgb': 'right_lower_joints',\n",
    "    'orange_rgb': 'left_upper_joints',\n",
    "    'blue_rgb': 'left_lower_joints',\n",
    "}"
   ]
  },
  {
   "cell_type": "code",
   "execution_count": 4,
   "metadata": {},
   "outputs": [],
   "source": [
    "color_joint_pair = dict()\n",
    "\n",
    "for color_group_name, joint_group_name in color_joint_group_pair.items():\n",
    "    color_list = color_groups[color_group_name]\n",
    "    joint_list = joint_groups[joint_group_name]\n",
    "    \n",
    "    if len(color_list) < len(joint_list):\n",
    "        print(f\"{color_group_name} color list shorter than number of joints in {joint_group_name}\")\n",
    "    else:\n",
    "        for idx in range(len(color_list)):\n",
    "            color_joint_pair[joint_list[idx]] = color_list[idx]"
   ]
  },
  {
   "cell_type": "code",
   "execution_count": 5,
   "metadata": {},
   "outputs": [
    {
     "data": {
      "text/plain": [
       "{'Hips': (210, 180, 140),\n",
       " 'Spine': (222, 184, 135),\n",
       " 'Spine1': (205, 133, 63),\n",
       " 'Spine2': (210, 105, 30),\n",
       " 'Neck': (139, 69, 19),\n",
       " 'Head': (160, 82, 45),\n",
       " 'RightShoulder': (240, 128, 128),\n",
       " 'RightArm': (250, 128, 114),\n",
       " 'RightForeArm': (205, 92, 92),\n",
       " 'RightHand': (220, 20, 60),\n",
       " 'RightUpLeg': (0, 255, 0),\n",
       " 'RightLeg': (50, 205, 50),\n",
       " 'RightFoot': (34, 139, 34),\n",
       " 'RightToeBase': (0, 128, 0),\n",
       " 'LeftShoulder': (255, 165, 0),\n",
       " 'LeftArm': (255, 140, 0),\n",
       " 'LeftForeArm': (255, 99, 71),\n",
       " 'LeftHand': (255, 69, 0),\n",
       " 'LeftUpLeg': (173, 216, 230),\n",
       " 'LeftLeg': (135, 206, 250),\n",
       " 'LeftFoot': (135, 206, 235),\n",
       " 'LeftToeBase': (0, 191, 255)}"
      ]
     },
     "execution_count": 5,
     "metadata": {},
     "output_type": "execute_result"
    }
   ],
   "source": [
    "color_joint_pair"
   ]
  },
  {
   "cell_type": "code",
   "execution_count": 6,
   "metadata": {},
   "outputs": [],
   "source": [
    "point_colors = []\n",
    "\n",
    "for joint_name in JOINT_MAP.keys():\n",
    "    point_colors.append(color_joint_pair[joint_name])\n",
    "    \n",
    "point_colors = np.asarray(point_colors)\n",
    "point_colors = np.divide(point_colors, 255)"
   ]
  },
  {
   "cell_type": "code",
   "execution_count": 7,
   "metadata": {},
   "outputs": [],
   "source": [
    "point_pairs = []\n",
    "line_colors = []\n",
    "\n",
    "for pairs in JOINT_PAIRS:\n",
    "    point_pairs.append((JOINT_MAP[pairs[0]], JOINT_MAP[pairs[1]]))\n",
    "    first_point_c = Color(color_joint_pair[pairs[0]], arithmetic=ArithmeticModel.BLEND)\n",
    "    second_point_c = Color(color_joint_pair[pairs[1]], arithmetic=ArithmeticModel.BLEND)\n",
    "    line_colors.append(tuple(first_point_c+second_point_c))\n",
    "        \n",
    "point_pairs = np.asarray(point_pairs)\n",
    "line_colors = np.divide(np.asarray(line_colors), 255)"
   ]
  },
  {
   "cell_type": "code",
   "execution_count": 8,
   "metadata": {},
   "outputs": [
    {
     "name": "stdout",
     "output_type": "stream",
     "text": [
      "key: motion | val type: <class 'numpy.ndarray'>\n",
      "key: text | val type: <class 'list'>\n",
      "key: lengths | val type: <class 'numpy.ndarray'>\n",
      "key: num_samples | val type: <class 'int'>\n",
      "key: num_repetitions | val type: <class 'int'>\n",
      "loaded \n",
      "/home/notingcode/Projects/3d/results.npy\n"
     ]
    }
   ],
   "source": [
    "mdm_result_path = Path(\"/home/notingcode/Projects/3d/\")\n",
    "\n",
    "npy_filepaths = mdm_result_path.glob(\"*.npy\")\n",
    "\n",
    "all_motion_data = dict()\n",
    "\n",
    "for npy_fp in npy_filepaths:\n",
    "    motion_data = np.load(npy_fp, allow_pickle=True)\n",
    "    \n",
    "    for key, val in motion_data.item().items():\n",
    "        if all_motion_data.get(key, None) is None:\n",
    "            all_motion_data[key] = list()\n",
    "        \n",
    "        all_motion_data[key].append(val)\n",
    "        \n",
    "        print(f\"key: {key} | val type: {type(val)}\")\n",
    "    \n",
    "    print(f\"loaded \\n{npy_fp}\")"
   ]
  },
  {
   "cell_type": "code",
   "execution_count": 9,
   "metadata": {},
   "outputs": [],
   "source": [
    "def adjust_neck(motion):\n",
    "    left_shoulder = motion[:,JOINT_MAP['LeftShoulder'],:,:]\n",
    "    right_shoulder = motion[:,JOINT_MAP['RightShoulder'],:,:]\n",
    "    spine2 = motion[:,JOINT_MAP['Spine2'],:,:]\n",
    "    \n",
    "    motion[:,JOINT_MAP['Spine2'],:,:] = ((left_shoulder+right_shoulder)*0.45 + spine2*0.1)"
   ]
  },
  {
   "cell_type": "code",
   "execution_count": 10,
   "metadata": {},
   "outputs": [],
   "source": [
    "def adjust_uplegs2hips(motion):\n",
    "    left_upleg = motion[:,JOINT_MAP['LeftUpLeg'],:,:]\n",
    "    right_upleg = motion[:,JOINT_MAP['RightUpLeg'],:,:]\n",
    "    \n",
    "    right_hip = (left_upleg*-0.1+right_upleg*1.1)\n",
    "    left_hip = (left_upleg*1.1+right_upleg*-0.1)\n",
    "    \n",
    "    motion[:,JOINT_MAP['LeftUpLeg'],:,:] = left_hip\n",
    "    motion[:,JOINT_MAP['RightUpLeg'],:,:] = right_hip"
   ]
  },
  {
   "cell_type": "code",
   "execution_count": 11,
   "metadata": {},
   "outputs": [],
   "source": [
    "# Non-blocking visualization implementation\n",
    "vis1 = visualization.Visualizer()\n",
    "vis1.create_window(left=0,top=0)\n",
    "vc1 = vis1.get_view_control()\n",
    "\n",
    "render_option1 = vis1.get_render_option()\n",
    "render_option1.background_color = np.asarray([0,0,0])\n",
    "\n",
    "pcd = o3d.geometry.PointCloud()\n",
    "lineSet = o3d.geometry.LineSet()\n",
    "\n",
    "custom_motion_data = all_motion_data['motion'][0]\n",
    "\n",
    "# fix points\n",
    "adjust_neck(custom_motion_data)\n",
    "adjust_uplegs2hips(custom_motion_data)\n",
    "\n",
    "for action_idx in range(all_motion_data['motion'][0].shape[0]//3):\n",
    "\n",
    "    entire_motion = custom_motion_data[action_idx,:,:,:]\n",
    "\n",
    "    for frame_idx in range(entire_motion.shape[2]//3):\n",
    "        \n",
    "        pcd.clear()\n",
    "        lineSet.clear()\n",
    "        pcd.points = o3d.utility.Vector3dVector(entire_motion[:,:,frame_idx])\n",
    "        pcd.colors = o3d.utility.Vector3dVector(point_colors)\n",
    "        lineSet.points = o3d.utility.Vector3dVector(entire_motion[:,:,frame_idx])\n",
    "        lineSet.lines = o3d.utility.Vector2iVector(point_pairs)\n",
    "        lineSet.colors = o3d.utility.Vector3dVector(line_colors)\n",
    "        center = pcd.get_center()\n",
    "        vc1.set_lookat(center)\n",
    "        vc1.set_up([0,1,0])\n",
    "        vc1.set_zoom(0.8)\n",
    "        vc1.set_front([0,0,1])\n",
    "        if frame_idx == 0:\n",
    "            vis1.add_geometry(pcd)\n",
    "            vis1.add_geometry(lineSet)\n",
    "        else:\n",
    "            vis1.update_geometry(pcd)\n",
    "            vis1.update_geometry(lineSet)\n",
    "        vis1.poll_events()\n",
    "        vis1.update_renderer()\n",
    "        time.sleep(0.03)\n",
    "\n",
    "vis1.destroy_window()\n",
    "\n",
    "del render_option1\n",
    "del vis1\n",
    "del vc1"
   ]
  },
  {
   "cell_type": "code",
   "execution_count": 12,
   "metadata": {},
   "outputs": [],
   "source": [
    "# Static view\n",
    "pcd = o3d.geometry.PointCloud()\n",
    "\n",
    "snap_of_motion = all_motion_data['motion'][0][0,:,:,0]\n",
    "\n",
    "pcd.points = o3d.utility.Vector3dVector(snap_of_motion)\n",
    "visualization.draw_geometries([pcd],\n",
    "                              zoom = 1.2,\n",
    "                              front = [0,0,1],\n",
    "                              lookat = pcd.get_center(),\n",
    "                              up = [0,1,0]\n",
    "                              )"
   ]
  },
  {
   "cell_type": "code",
   "execution_count": 13,
   "metadata": {},
   "outputs": [
    {
     "data": {
      "text/plain": [
       "(22, 3)"
      ]
     },
     "execution_count": 13,
     "metadata": {},
     "output_type": "execute_result"
    }
   ],
   "source": [
    "snap_of_motion.shape"
   ]
  }
 ],
 "metadata": {
  "kernelspec": {
   "display_name": "open3d",
   "language": "python",
   "name": "python3"
  },
  "language_info": {
   "codemirror_mode": {
    "name": "ipython",
    "version": 3
   },
   "file_extension": ".py",
   "mimetype": "text/x-python",
   "name": "python",
   "nbconvert_exporter": "python",
   "pygments_lexer": "ipython3",
   "version": "3.10.13"
  },
  "orig_nbformat": 4
 },
 "nbformat": 4,
 "nbformat_minor": 2
}
