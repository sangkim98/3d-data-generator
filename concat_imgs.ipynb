{
 "cells": [
  {
   "cell_type": "code",
   "execution_count": 1,
   "metadata": {},
   "outputs": [],
   "source": [
    "import cv2"
   ]
  },
  {
   "cell_type": "code",
   "execution_count": 3,
   "metadata": {},
   "outputs": [
    {
     "data": {
      "text/plain": [
       "True"
      ]
     },
     "execution_count": 3,
     "metadata": {},
     "output_type": "execute_result"
    }
   ],
   "source": [
    "img1 = cv2.imread('/home/notingcode/Projects/3d_visualize/test/front.png')\n",
    "img2 = cv2.imread('/home/notingcode/Projects/3d_visualize/test/back.png')\n",
    "img3 = cv2.imread('/home/notingcode/Projects/3d_visualize/test/left.png')\n",
    "img4 = cv2.imread('/home/notingcode/Projects/3d_visualize/test/right.png')\n",
    "\n",
    "result = cv2.hconcat([img1, img2, img3, img4])\n",
    "\n",
    "cv2.imwrite('/home/notingcode/Projects/3d_visualize/test/concat_poses.png', img=result)"
   ]
  },
  {
   "cell_type": "code",
   "execution_count": null,
   "metadata": {},
   "outputs": [],
   "source": []
  }
 ],
 "metadata": {
  "kernelspec": {
   "display_name": "3d",
   "language": "python",
   "name": "python3"
  },
  "language_info": {
   "codemirror_mode": {
    "name": "ipython",
    "version": 3
   },
   "file_extension": ".py",
   "mimetype": "text/x-python",
   "name": "python",
   "nbconvert_exporter": "python",
   "pygments_lexer": "ipython3",
   "version": "3.10.13"
  }
 },
 "nbformat": 4,
 "nbformat_minor": 2
}
